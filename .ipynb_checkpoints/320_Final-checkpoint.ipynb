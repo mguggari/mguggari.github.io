{
 "cells": [
  {
   "cell_type": "code",
   "execution_count": 2,
   "metadata": {
    "scrolled": true
   },
   "outputs": [
    {
     "data": {
      "text/plain": [
       "Index(['id', 'name', 'host_id', 'host_name', 'neighbourhood_group',\n",
       "       'neighbourhood', 'latitude', 'longitude', 'room_type', 'price',\n",
       "       'minimum_nights', 'number_of_reviews', 'last_review',\n",
       "       'reviews_per_month', 'calculated_host_listings_count',\n",
       "       'availability_365'],\n",
       "      dtype='object')"
      ]
     },
     "execution_count": 2,
     "metadata": {},
     "output_type": "execute_result"
    }
   ],
   "source": [
    "# megha smells\n",
    "import matplotlib.pyplot as plt\n",
    "import pandas\n",
    "import folium\n",
    "\n",
    "data = pandas.read_csv(\"AB_NYC_2019.csv\")\n",
    "data.columns"
   ]
  },
  {
   "cell_type": "markdown",
   "metadata": {},
   "source": [
    "# visualizations \n",
    "N\n",
    "1. Heatmap based on prices  \n",
    "2. Heatmap based on availability\n",
    "\n",
    "R\n",
    "3. Room_type vs Price \n",
    "4. Relationship bewteen rating and price\n",
    "\n",
    "M\n",
    "5. Heatmap based on rating\n",
    "6. Room_type vs availability\n",
    "\n",
    "\n",
    "\n",
    "# Machine Learning:\n",
    "1. Based on other info -> Suggested Price"
   ]
  },
  {
   "cell_type": "code",
   "execution_count": 3,
   "metadata": {},
   "outputs": [
    {
     "data": {
      "text/plain": [
       "Text(0.5, 1.0, 'Rental Type vs Nightly Rate')"
      ]
     },
     "execution_count": 3,
     "metadata": {},
     "output_type": "execute_result"
    },
    {
     "data": {
      "image/png": "[encoded data removed]",
      "text/plain": [
       "<Figure size 432x288 with 1 Axes>"
      ]
     },
     "metadata": {
      "needs_background": "light"
     },
     "output_type": "display_data"
    }
   ],
   "source": [
    "# Visulizations:\n",
    "\n",
    "\n",
    "\n",
    "# 3. Room Type vs Price\n",
    "data_by_roomtype = data.sort_values([\"room_type\"])\n",
    "room_types = data_by_roomtype[\"room_type\"].unique()\n",
    "\n",
    "\n",
    "sums = {\"entire\": 0, \"private\": 0, \"shared\": 0}\n",
    "tally = {\"entire\": 0, \"private\": 0, \"shared\": 0}\n",
    "averages = {}\n",
    "\n",
    "def generate_bar_plot(row):\n",
    "    global sums, tally\n",
    "    if(row[\"room_type\"]==\"Entire home/apt\"):\n",
    "        sums[\"entire\"]+=row[\"price\"]\n",
    "        tally[\"entire\"]+=1\n",
    "    elif(row[\"room_type\"]==\"Private room\"):\n",
    "        sums[\"private\"]+=row[\"price\"]\n",
    "        tally[\"private\"]+=1\n",
    "    elif(row[\"room_type\"] == \"Shared room\"):\n",
    "        sums[\"shared\"]+=row[\"price\"]\n",
    "        tally[\"shared\"]+=1\n",
    "\n",
    "data_by_roomtype.apply(generate_bar_plot, axis=1)\n",
    "\n",
    "for k in sums:\n",
    "    averages[k] = sums[k]/tally[k]\n",
    "    \n",
    "plt.bar(averages.keys(), averages.values())\n",
    "\n",
    "plt.title(\"Rental Type vs Nightly Rate\")"
   ]
  },
  {
   "cell_type": "code",
   "execution_count": 35,
   "metadata": {},
   "outputs": [],
   "source": [
    "#4 Relationship bewteen rating and price"
   ]
  },
  {
   "cell_type": "code",
   "execution_count": 28,
   "metadata": {},
   "outputs": [
    {
     "data": {
      "text/plain": [
       "{'entire': 211.79424613325986,\n",
       " 'private': 89.78097285675894,\n",
       " 'shared': 70.12758620689655}"
      ]
     },
     "execution_count": 28,
     "metadata": {},
     "output_type": "execute_result"
    }
   ],
   "source": [
    "averages"
   ]
  },
  {
   "cell_type": "code",
   "execution_count": null,
   "metadata": {},
   "outputs": [],
   "source": [
    "#5 "
   ]
  }
 ],
 "metadata": {
  "kernelspec": {
   "display_name": "Python 3",
   "language": "python",
   "name": "python3"
  },
  "language_info": {
   "codemirror_mode": {
    "name": "ipython",
    "version": 3
   },
   "file_extension": ".py",
   "mimetype": "text/x-python",
   "name": "python",
   "nbconvert_exporter": "python",
   "pygments_lexer": "ipython3",
   "version": "3.7.3"
  }
 },
 "nbformat": 4,
 "nbformat_minor": 2
}
